{
 "cells": [
  {
   "cell_type": "markdown",
   "metadata": {},
   "source": [
    "## Control Structures in Python"
   ]
  },
  {
   "cell_type": "code",
   "execution_count": 5,
   "metadata": {},
   "outputs": [
    {
     "name": "stdout",
     "output_type": "stream",
     "text": [
      "Primeira parte é Verdade! {True}\n",
      "segunda parte False!\n"
     ]
    }
   ],
   "source": [
    "# Conditional Statements (if):\n",
    "if True:\n",
    "    print('primeira parte e verdade! {True}')\n",
    "print(f'segunda parte e {False}!')\n"
   ]
  },
  {
   "cell_type": "code",
   "execution_count": 6,
   "metadata": {},
   "outputs": [
    {
     "name": "stdout",
     "output_type": "stream",
     "text": [
      "segunda parte e False!\n"
     ]
    }
   ],
   "source": [
    "# Conditional Statements (else):\n",
    "if False:\n",
    "    print('primeira parte e verdade! {True}')\n",
    "else:\n",
    "    print(f'segunda parte e {False}!')"
   ]
  },
  {
   "cell_type": "code",
   "execution_count": 8,
   "metadata": {},
   "outputs": [
    {
     "name": "stdout",
     "output_type": "stream",
     "text": [
      "segunda parte e True!\n"
     ]
    }
   ],
   "source": [
    "\n",
    "# Conditional Statements (elif):\n",
    "if False:\n",
    "    print('primeira parte e verdade! {True}')\n",
    "elif True:\n",
    "    print(f'segunda parte e {True}!')\n",
    "elif True:\n",
    "    print(f'Terceira parte e {True}!')\n"
   ]
  }
 ],
 "metadata": {
  "kernelspec": {
   "display_name": "Python 3",
   "language": "python",
   "name": "python3"
  },
  "language_info": {
   "codemirror_mode": {
    "name": "ipython",
    "version": 3
   },
   "file_extension": ".py",
   "mimetype": "text/x-python",
   "name": "python",
   "nbconvert_exporter": "python",
   "pygments_lexer": "ipython3",
   "version": "3.13.1"
  }
 },
 "nbformat": 4,
 "nbformat_minor": 2
}
