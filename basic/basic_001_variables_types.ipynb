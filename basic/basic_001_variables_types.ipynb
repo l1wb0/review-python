{
 "cells": [
  {
   "cell_type": "markdown",
   "metadata": {},
   "source": [
    "## Variables and Data Types"
   ]
  },
  {
   "cell_type": "code",
   "execution_count": 22,
   "metadata": {},
   "outputs": [
    {
     "name": "stdout",
     "output_type": "stream",
     "text": [
      "1\n",
      "99999\n"
     ]
    }
   ],
   "source": [
    "### int -> inteiros (numeros inteiros)\n",
    "variavel_inteira_1 = 1\n",
    "variavel_2 = 99999\n",
    "\n",
    "print(variavel_inteira_1)\n",
    "print(variavel_2)"
   ]
  },
  {
   "cell_type": "code",
   "execution_count": 17,
   "metadata": {},
   "outputs": [
    {
     "name": "stdout",
     "output_type": "stream",
     "text": [
      "1.1 3.1415926535\n"
     ]
    }
   ],
   "source": [
    "### float -> float (numeros flutuantes/decimais)\n",
    "variavel_float_1 = 1.1\n",
    "variavel_2 = 3.1415926535\n",
    "print(variavel_float_1, variavel_2)"
   ]
  },
  {
   "cell_type": "code",
   "execution_count": 18,
   "metadata": {},
   "outputs": [
    {
     "name": "stdout",
     "output_type": "stream",
     "text": [
      "strings podem conter numeros!  eu disse: 245 /n mas pouco util diferente desse '/ n' \n"
     ]
    }
   ],
   "source": [
    "### str -> string (Uma sequencia de caracters)\n",
    "variavel_string_1 = \"strings podem conter numeros! \"\n",
    "variavel_2 = \"eu disse: 245 /n mas pouco util diferente desse '/ n' \"\n",
    "\n",
    "print(variavel_string_1, variavel_2)"
   ]
  },
  {
   "cell_type": "code",
   "execution_count": 19,
   "metadata": {},
   "outputs": [
    {
     "name": "stdout",
     "output_type": "stream",
     "text": [
      "False 0\n"
     ]
    }
   ],
   "source": [
    "### bool -> booleano (Uma Representação de verdadeiro (True,1) ou falso (False,0))\n",
    "variavel_booleano_1 = False # poderia ser \"True\"\n",
    "variavel_2 = 0 # algumas linguagens usam o 0 para representar o falso\n",
    "\n",
    "print(variavel_booleano_1, variavel_2)"
   ]
  },
  {
   "cell_type": "code",
   "execution_count": 23,
   "metadata": {},
   "outputs": [
    {
     "name": "stdout",
     "output_type": "stream",
     "text": [
      "['primeiro', 2, 3, 'quarto']\n",
      "[1, 1.1, 'strings podem conter numeros! ', False]\n"
     ]
    }
   ],
   "source": [
    "### tuple -> tupla (São coleções ordenadas e  não mutáveis de itens)\n",
    "variavel_tupla_1 = (\"primeiro\", 2, 3, \"quarto\")\n",
    "variavel_2 = (variavel_inteira_1, variavel_float_1, variavel_string_1, variavel_booleano_1)\n",
    "\n",
    "print(variavel_tupla_1)\n",
    "print(variavel_2)"
   ]
  },
  {
   "cell_type": "code",
   "execution_count": 21,
   "metadata": {},
   "outputs": [
    {
     "name": "stdout",
     "output_type": "stream",
     "text": [
      "['primeiro', 2, 3, 'quarto']\n",
      "[1, 1.1, 'strings podem conter numeros! ', False]\n"
     ]
    }
   ],
   "source": [
    "### list -> listas (São coleções ordenadas e mutáveis de itens)\n",
    "variavel_lista_1 = [\"primeiro\", 2, 3, \"quarto\"]\n",
    "variavel_2 = [variavel_inteira_1, variavel_float_1, variavel_string_1, variavel_booleano_1]\n",
    "\n",
    "print(variavel_lista_1)\n",
    "print(variavel_2)"
   ]
  },
  {
   "cell_type": "code",
   "execution_count": 24,
   "metadata": {},
   "outputs": [
    {
     "name": "stdout",
     "output_type": "stream",
     "text": [
      "{'name': 'Alice', 'age': 25}\n",
      "{'name': 'Alice', 'cpf': 252525252525}\n"
     ]
    }
   ],
   "source": [
    "### dict -> dicionario (É uma coleção não ordenada de itens[chave/valor] mutaveis)\n",
    "variavel_dicionario_1 = {'name': 'Alice', 'age': 25}\n",
    "variavel_2 = {'name': 'Alice', 'cpf': 252525252525}\n",
    "\n",
    "print(variavel_dicionario_1)\n",
    "print(variavel_2)"
   ]
  },
  {
   "cell_type": "code",
   "execution_count": 30,
   "metadata": {},
   "outputs": [
    {
     "name": "stdout",
     "output_type": "stream",
     "text": [
      "{1, 2, 3, 4}\n",
      "{0, 1, 4}\n"
     ]
    }
   ],
   "source": [
    "### set -> conjuntos ( É uma coleção desordenada e sem elementos duplicados)\n",
    "variavel_conjuntos_1 = {1, 2, 3, 4, 4}\n",
    "variavel_2 = {1, 1, 0, 4, 4}\n",
    "\n",
    "print(variavel_conjuntos_1)\n",
    "print(variavel_2)"
   ]
  },
  {
   "cell_type": "code",
   "execution_count": 31,
   "metadata": {},
   "outputs": [
    {
     "name": "stdout",
     "output_type": "stream",
     "text": [
      "None\n"
     ]
    }
   ],
   "source": [
    "### None -> None ( É uma coleção desordenada e sem elementos duplicados)\n",
    "variavel_None_1 = None\n",
    "\n",
    "\n",
    "print(variavel_None_1)"
   ]
  }
 ],
 "metadata": {
  "kernelspec": {
   "display_name": "Python 3",
   "language": "python",
   "name": "python3"
  },
  "language_info": {
   "codemirror_mode": {
    "name": "ipython",
    "version": 3
   },
   "file_extension": ".py",
   "mimetype": "text/x-python",
   "name": "python",
   "nbconvert_exporter": "python",
   "pygments_lexer": "ipython3",
   "version": "3.13.1"
  }
 },
 "nbformat": 4,
 "nbformat_minor": 2
}
